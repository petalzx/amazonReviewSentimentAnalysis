{
  "nbformat": 4,
  "nbformat_minor": 0,
  "metadata": {
    "colab": {
      "provenance": [],
      "authorship_tag": "ABX9TyNZi8ckCrM40d+MjibhV1xv"
    },
    "kernelspec": {
      "name": "python3",
      "display_name": "Python 3"
    },
    "language_info": {
      "name": "python"
    },
    "widgets": {
      "application/vnd.jupyter.widget-state+json": {
        "3857287a51ea4a2aa25f80e06f1698b7": {
          "model_module": "@jupyter-widgets/controls",
          "model_name": "HBoxModel",
          "model_module_version": "1.5.0",
          "state": {
            "_dom_classes": [],
            "_model_module": "@jupyter-widgets/controls",
            "_model_module_version": "1.5.0",
            "_model_name": "HBoxModel",
            "_view_count": null,
            "_view_module": "@jupyter-widgets/controls",
            "_view_module_version": "1.5.0",
            "_view_name": "HBoxView",
            "box_style": "",
            "children": [
              "IPY_MODEL_b41cb00586744336ad0e2675612da7a1",
              "IPY_MODEL_9b88a2356b224807aa28cd420d9e606b",
              "IPY_MODEL_a9c01de065a046a79a6657fb95ed732c"
            ],
            "layout": "IPY_MODEL_c536c6b2db7b41c8ab6cfd249e2b5293"
          }
        },
        "b41cb00586744336ad0e2675612da7a1": {
          "model_module": "@jupyter-widgets/controls",
          "model_name": "HTMLModel",
          "model_module_version": "1.5.0",
          "state": {
            "_dom_classes": [],
            "_model_module": "@jupyter-widgets/controls",
            "_model_module_version": "1.5.0",
            "_model_name": "HTMLModel",
            "_view_count": null,
            "_view_module": "@jupyter-widgets/controls",
            "_view_module_version": "1.5.0",
            "_view_name": "HTMLView",
            "description": "",
            "description_tooltip": null,
            "layout": "IPY_MODEL_efba65d4a17a4f9ca434edb4150d0f66",
            "placeholder": "​",
            "style": "IPY_MODEL_d76aaf63e6e5405f865e44bfebdac227",
            "value": "100%"
          }
        },
        "9b88a2356b224807aa28cd420d9e606b": {
          "model_module": "@jupyter-widgets/controls",
          "model_name": "FloatProgressModel",
          "model_module_version": "1.5.0",
          "state": {
            "_dom_classes": [],
            "_model_module": "@jupyter-widgets/controls",
            "_model_module_version": "1.5.0",
            "_model_name": "FloatProgressModel",
            "_view_count": null,
            "_view_module": "@jupyter-widgets/controls",
            "_view_module_version": "1.5.0",
            "_view_name": "ProgressView",
            "bar_style": "success",
            "description": "",
            "description_tooltip": null,
            "layout": "IPY_MODEL_9e2aa7f1eb14458bb4efc1cdce16f805",
            "max": 1000,
            "min": 0,
            "orientation": "horizontal",
            "style": "IPY_MODEL_ba459bac12be4979a57e88b114454dec",
            "value": 1000
          }
        },
        "a9c01de065a046a79a6657fb95ed732c": {
          "model_module": "@jupyter-widgets/controls",
          "model_name": "HTMLModel",
          "model_module_version": "1.5.0",
          "state": {
            "_dom_classes": [],
            "_model_module": "@jupyter-widgets/controls",
            "_model_module_version": "1.5.0",
            "_model_name": "HTMLModel",
            "_view_count": null,
            "_view_module": "@jupyter-widgets/controls",
            "_view_module_version": "1.5.0",
            "_view_name": "HTMLView",
            "description": "",
            "description_tooltip": null,
            "layout": "IPY_MODEL_677082a6491e4bff9fda3c9acc95b270",
            "placeholder": "​",
            "style": "IPY_MODEL_0e8b687dc35141d3856f9ec92ae10517",
            "value": " 1000/1000 [00:04&lt;00:00, 440.05it/s]"
          }
        },
        "c536c6b2db7b41c8ab6cfd249e2b5293": {
          "model_module": "@jupyter-widgets/base",
          "model_name": "LayoutModel",
          "model_module_version": "1.2.0",
          "state": {
            "_model_module": "@jupyter-widgets/base",
            "_model_module_version": "1.2.0",
            "_model_name": "LayoutModel",
            "_view_count": null,
            "_view_module": "@jupyter-widgets/base",
            "_view_module_version": "1.2.0",
            "_view_name": "LayoutView",
            "align_content": null,
            "align_items": null,
            "align_self": null,
            "border": null,
            "bottom": null,
            "display": null,
            "flex": null,
            "flex_flow": null,
            "grid_area": null,
            "grid_auto_columns": null,
            "grid_auto_flow": null,
            "grid_auto_rows": null,
            "grid_column": null,
            "grid_gap": null,
            "grid_row": null,
            "grid_template_areas": null,
            "grid_template_columns": null,
            "grid_template_rows": null,
            "height": null,
            "justify_content": null,
            "justify_items": null,
            "left": null,
            "margin": null,
            "max_height": null,
            "max_width": null,
            "min_height": null,
            "min_width": null,
            "object_fit": null,
            "object_position": null,
            "order": null,
            "overflow": null,
            "overflow_x": null,
            "overflow_y": null,
            "padding": null,
            "right": null,
            "top": null,
            "visibility": null,
            "width": null
          }
        },
        "efba65d4a17a4f9ca434edb4150d0f66": {
          "model_module": "@jupyter-widgets/base",
          "model_name": "LayoutModel",
          "model_module_version": "1.2.0",
          "state": {
            "_model_module": "@jupyter-widgets/base",
            "_model_module_version": "1.2.0",
            "_model_name": "LayoutModel",
            "_view_count": null,
            "_view_module": "@jupyter-widgets/base",
            "_view_module_version": "1.2.0",
            "_view_name": "LayoutView",
            "align_content": null,
            "align_items": null,
            "align_self": null,
            "border": null,
            "bottom": null,
            "display": null,
            "flex": null,
            "flex_flow": null,
            "grid_area": null,
            "grid_auto_columns": null,
            "grid_auto_flow": null,
            "grid_auto_rows": null,
            "grid_column": null,
            "grid_gap": null,
            "grid_row": null,
            "grid_template_areas": null,
            "grid_template_columns": null,
            "grid_template_rows": null,
            "height": null,
            "justify_content": null,
            "justify_items": null,
            "left": null,
            "margin": null,
            "max_height": null,
            "max_width": null,
            "min_height": null,
            "min_width": null,
            "object_fit": null,
            "object_position": null,
            "order": null,
            "overflow": null,
            "overflow_x": null,
            "overflow_y": null,
            "padding": null,
            "right": null,
            "top": null,
            "visibility": null,
            "width": null
          }
        },
        "d76aaf63e6e5405f865e44bfebdac227": {
          "model_module": "@jupyter-widgets/controls",
          "model_name": "DescriptionStyleModel",
          "model_module_version": "1.5.0",
          "state": {
            "_model_module": "@jupyter-widgets/controls",
            "_model_module_version": "1.5.0",
            "_model_name": "DescriptionStyleModel",
            "_view_count": null,
            "_view_module": "@jupyter-widgets/base",
            "_view_module_version": "1.2.0",
            "_view_name": "StyleView",
            "description_width": ""
          }
        },
        "9e2aa7f1eb14458bb4efc1cdce16f805": {
          "model_module": "@jupyter-widgets/base",
          "model_name": "LayoutModel",
          "model_module_version": "1.2.0",
          "state": {
            "_model_module": "@jupyter-widgets/base",
            "_model_module_version": "1.2.0",
            "_model_name": "LayoutModel",
            "_view_count": null,
            "_view_module": "@jupyter-widgets/base",
            "_view_module_version": "1.2.0",
            "_view_name": "LayoutView",
            "align_content": null,
            "align_items": null,
            "align_self": null,
            "border": null,
            "bottom": null,
            "display": null,
            "flex": null,
            "flex_flow": null,
            "grid_area": null,
            "grid_auto_columns": null,
            "grid_auto_flow": null,
            "grid_auto_rows": null,
            "grid_column": null,
            "grid_gap": null,
            "grid_row": null,
            "grid_template_areas": null,
            "grid_template_columns": null,
            "grid_template_rows": null,
            "height": null,
            "justify_content": null,
            "justify_items": null,
            "left": null,
            "margin": null,
            "max_height": null,
            "max_width": null,
            "min_height": null,
            "min_width": null,
            "object_fit": null,
            "object_position": null,
            "order": null,
            "overflow": null,
            "overflow_x": null,
            "overflow_y": null,
            "padding": null,
            "right": null,
            "top": null,
            "visibility": null,
            "width": null
          }
        },
        "ba459bac12be4979a57e88b114454dec": {
          "model_module": "@jupyter-widgets/controls",
          "model_name": "ProgressStyleModel",
          "model_module_version": "1.5.0",
          "state": {
            "_model_module": "@jupyter-widgets/controls",
            "_model_module_version": "1.5.0",
            "_model_name": "ProgressStyleModel",
            "_view_count": null,
            "_view_module": "@jupyter-widgets/base",
            "_view_module_version": "1.2.0",
            "_view_name": "StyleView",
            "bar_color": null,
            "description_width": ""
          }
        },
        "677082a6491e4bff9fda3c9acc95b270": {
          "model_module": "@jupyter-widgets/base",
          "model_name": "LayoutModel",
          "model_module_version": "1.2.0",
          "state": {
            "_model_module": "@jupyter-widgets/base",
            "_model_module_version": "1.2.0",
            "_model_name": "LayoutModel",
            "_view_count": null,
            "_view_module": "@jupyter-widgets/base",
            "_view_module_version": "1.2.0",
            "_view_name": "LayoutView",
            "align_content": null,
            "align_items": null,
            "align_self": null,
            "border": null,
            "bottom": null,
            "display": null,
            "flex": null,
            "flex_flow": null,
            "grid_area": null,
            "grid_auto_columns": null,
            "grid_auto_flow": null,
            "grid_auto_rows": null,
            "grid_column": null,
            "grid_gap": null,
            "grid_row": null,
            "grid_template_areas": null,
            "grid_template_columns": null,
            "grid_template_rows": null,
            "height": null,
            "justify_content": null,
            "justify_items": null,
            "left": null,
            "margin": null,
            "max_height": null,
            "max_width": null,
            "min_height": null,
            "min_width": null,
            "object_fit": null,
            "object_position": null,
            "order": null,
            "overflow": null,
            "overflow_x": null,
            "overflow_y": null,
            "padding": null,
            "right": null,
            "top": null,
            "visibility": null,
            "width": null
          }
        },
        "0e8b687dc35141d3856f9ec92ae10517": {
          "model_module": "@jupyter-widgets/controls",
          "model_name": "DescriptionStyleModel",
          "model_module_version": "1.5.0",
          "state": {
            "_model_module": "@jupyter-widgets/controls",
            "_model_module_version": "1.5.0",
            "_model_name": "DescriptionStyleModel",
            "_view_count": null,
            "_view_module": "@jupyter-widgets/base",
            "_view_module_version": "1.2.0",
            "_view_name": "StyleView",
            "description_width": ""
          }
        }
      }
    }
  },
  "cells": [
    {
      "cell_type": "markdown",
      "source": [
        "Amazon Review Sentiment Analysis"
      ],
      "metadata": {
        "id": "iv3B_ihsrANd"
      }
    },
    {
      "cell_type": "code",
      "execution_count": 4,
      "metadata": {
        "id": "kYhsbEz7jMbc",
        "outputId": "ff875d1d-0a22-4571-994e-8dda5f92f157",
        "colab": {
          "base_uri": "https://localhost:8080/"
        }
      },
      "outputs": [
        {
          "output_type": "stream",
          "name": "stderr",
          "text": [
            "[nltk_data] Downloading package vader_lexicon to /root/nltk_data...\n",
            "[nltk_data]   Package vader_lexicon is already up-to-date!\n"
          ]
        }
      ],
      "source": [
        "import numpy as np\n",
        "import pandas as pd\n",
        "import matplotlib.pyplot as plt\n",
        "import seaborn as sns\n",
        "from tqdm.notebook import tqdm\n",
        "sns.set_theme(style=\"darkgrid\")\n",
        "plt.style.use('ggplot')\n",
        "\n",
        "import nltk\n",
        "from nltk.sentiment.vader import SentimentIntensityAnalyzer\n",
        "nltk.download('vader_lexicon')\n",
        "analyzer = SentimentIntensityAnalyzer()"
      ]
    },
    {
      "cell_type": "code",
      "source": [
        "#Read in data\n",
        "path = \"/content/Amazon_Unlocked_Mobile.csv\"\n",
        "df = pd.read_csv(path)\n",
        "print(df.shape)\n",
        "#Since the dataset is quick large, we will only use the first 1000 entries\n",
        "df = df.head(1000)\n",
        "#df.describe\n",
        "df.columns"
      ],
      "metadata": {
        "id": "jVxX_QjSsOC3",
        "outputId": "1b2648cd-b55a-430b-a712-77eaafe174a8",
        "colab": {
          "base_uri": "https://localhost:8080/"
        }
      },
      "execution_count": 5,
      "outputs": [
        {
          "output_type": "stream",
          "name": "stdout",
          "text": [
            "(413840, 6)\n"
          ]
        },
        {
          "output_type": "execute_result",
          "data": {
            "text/plain": [
              "Index(['Product Name', 'Brand Name', 'Price', 'Rating', 'Reviews',\n",
              "       'Review Votes'],\n",
              "      dtype='object')"
            ]
          },
          "metadata": {},
          "execution_count": 5
        }
      ]
    },
    {
      "cell_type": "code",
      "source": [
        "#Clean the data, get rid of whitespaces and newline characters\n",
        "df['Reviews'] = df['Reviews'].str.strip()\n",
        "df['Reviews'] = df['Reviews'].str.replace('>','')\n",
        "df['Reviews'] = df['Reviews'].str.replace('-','')"
      ],
      "metadata": {
        "id": "hbG8jCM2xb5F"
      },
      "execution_count": 6,
      "outputs": []
    },
    {
      "cell_type": "markdown",
      "source": [
        "Exploratory Data Analysis"
      ],
      "metadata": {
        "id": "wSX1pfAaSZJ9"
      }
    },
    {
      "cell_type": "code",
      "source": [
        "#Plot of the ratings of the reviews in a bar graph\n",
        "ax = df['Rating'].value_counts().sort_index() \\\n",
        "     .plot(kind = 'bar', title = 'Ratings by Stars', figsize=(10,5))\n",
        "ax.set_xlabel('Rating')\n",
        "plt.show()"
      ],
      "metadata": {
        "id": "Sgu_R5RnSXph",
        "colab": {
          "base_uri": "https://localhost:8080/",
          "height": 353
        },
        "outputId": "d0306329-52d0-48c4-a1eb-e797937bdf0d"
      },
      "execution_count": 7,
      "outputs": [
        {
          "output_type": "display_data",
          "data": {
            "text/plain": [
              "<Figure size 720x360 with 1 Axes>"
            ],
            "image/png": "[encoded data removed]"
          },
          "metadata": {}
        }
      ]
    },
    {
      "cell_type": "code",
      "source": [
        "#Plot the ratings of the reviews in a pie chart\n",
        "colors = sns.color_palette('pastel')[0:5]\n",
        "labels = ['1','2','3','4','5']\n",
        "plt.pie(df['Rating'].value_counts().sort_index(), labels = labels, colors = colors, autopct='%.0f%%')\n",
        "plt.title('Ratings by Stars')\n",
        "plt.show()"
      ],
      "metadata": {
        "id": "mlvJl13abpSy",
        "colab": {
          "base_uri": "https://localhost:8080/",
          "height": 265
        },
        "outputId": "7c5e1e32-343c-4391-d308-672c7934497f"
      },
      "execution_count": 8,
      "outputs": [
        {
          "output_type": "display_data",
          "data": {
            "text/plain": [
              "<Figure size 432x288 with 1 Axes>"
            ],
            "image/png": "[encoded data removed]"
          },
          "metadata": {}
        }
      ]
    },
    {
      "cell_type": "markdown",
      "source": [
        "Vader Sentiment Analysis"
      ],
      "metadata": {
        "id": "SEomFHTddvw4"
      }
    },
    {
      "cell_type": "code",
      "source": [
        "#Run polarity score on reviews using VADER\n",
        "sentiment_score = {}\n",
        "df.insert(loc=5, column='Sentiment', value=None)\n",
        "for index, row in tqdm(df.iterrows(), total=len(df)):\n",
        "  text = row['Reviews']\n",
        "  sentiment_score[index] = analyzer.polarity_scores(text)\n",
        "  neg = sentiment_score[index]['neg']\n",
        "  neu = sentiment_score[index]['neu']\n",
        "  pos = sentiment_score[index]['pos']\n",
        "\n",
        "  if neg > pos:\n",
        "    df.loc[index, 'Sentiment'] = 'Negative'\n",
        "  elif pos > neg:\n",
        "    df.loc[index, 'Sentiment'] = 'Positive'\n",
        "  else:\n",
        "    df.loc[index, 'Sentiment'] = 'Neutral'\n"
      ],
      "metadata": {
        "id": "EOsdG3cSFwDF",
        "colab": {
          "base_uri": "https://localhost:8080/",
          "height": 49,
          "referenced_widgets": [
            "3857287a51ea4a2aa25f80e06f1698b7",
            "b41cb00586744336ad0e2675612da7a1",
            "9b88a2356b224807aa28cd420d9e606b",
            "a9c01de065a046a79a6657fb95ed732c",
            "c536c6b2db7b41c8ab6cfd249e2b5293",
            "efba65d4a17a4f9ca434edb4150d0f66",
            "d76aaf63e6e5405f865e44bfebdac227",
            "9e2aa7f1eb14458bb4efc1cdce16f805",
            "ba459bac12be4979a57e88b114454dec",
            "677082a6491e4bff9fda3c9acc95b270",
            "0e8b687dc35141d3856f9ec92ae10517"
          ]
        },
        "outputId": "28403a6b-eec4-4db9-bce7-d7418181c985"
      },
      "execution_count": 9,
      "outputs": [
        {
          "output_type": "display_data",
          "data": {
            "text/plain": [
              "  0%|          | 0/1000 [00:00<?, ?it/s]"
            ],
            "application/vnd.jupyter.widget-view+json": {
              "version_major": 2,
              "version_minor": 0,
              "model_id": "3857287a51ea4a2aa25f80e06f1698b7"
            }
          },
          "metadata": {}
        }
      ]
    },
    {
      "cell_type": "code",
      "source": [
        "vaders = pd.DataFrame(sentiment_score).T\n",
        "vaders.columns"
      ],
      "metadata": {
        "id": "MrmCX1svXIzo",
        "colab": {
          "base_uri": "https://localhost:8080/"
        },
        "outputId": "cf218b14-1482-4a3d-d5f0-ffe89fb81a7b"
      },
      "execution_count": 10,
      "outputs": [
        {
          "output_type": "execute_result",
          "data": {
            "text/plain": [
              "Index(['neg', 'neu', 'pos', 'compound'], dtype='object')"
            ]
          },
          "metadata": {},
          "execution_count": 10
        }
      ]
    },
    {
      "cell_type": "code",
      "source": [
        "#Creates a new dataframe called analysis that contains the vaders results and the information from our original dataframe\n",
        "df1 = df[['Product Name', 'Brand Name', 'Price', 'Rating', 'Reviews']]\n",
        "df2 = df[['Sentiment', 'Review Votes']]\n",
        "df_intermediate = pd.concat([df1, vaders], axis=1)\n",
        "analysis = pd.concat([df_intermediate, df2], axis=1)"
      ],
      "metadata": {
        "id": "1m_SwevAmZqx"
      },
      "execution_count": 11,
      "outputs": []
    },
    {
      "cell_type": "code",
      "source": [
        "analysis.head(5)"
      ],
      "metadata": {
        "id": "g4idJjRQnHdA",
        "colab": {
          "base_uri": "https://localhost:8080/",
          "height": 441
        },
        "outputId": "37741b9f-d6c3-4321-c91a-5fab66866c64"
      },
      "execution_count": 12,
      "outputs": [
        {
          "output_type": "execute_result",
          "data": {
            "text/plain": [
              "                                        Product Name Brand Name   Price  \\\n",
              "0  \"CLEAR CLEAN ESN\" Sprint EPIC 4G Galaxy SPH-D7...    Samsung  199.99   \n",
              "1  \"CLEAR CLEAN ESN\" Sprint EPIC 4G Galaxy SPH-D7...    Samsung  199.99   \n",
              "2  \"CLEAR CLEAN ESN\" Sprint EPIC 4G Galaxy SPH-D7...    Samsung  199.99   \n",
              "3  \"CLEAR CLEAN ESN\" Sprint EPIC 4G Galaxy SPH-D7...    Samsung  199.99   \n",
              "4  \"CLEAR CLEAN ESN\" Sprint EPIC 4G Galaxy SPH-D7...    Samsung  199.99   \n",
              "\n",
              "   Rating                                            Reviews    neg    neu  \\\n",
              "0       5  I feel so LUCKY to have found this used (phone...  0.015  0.796   \n",
              "1       4  nice phone, nice up grade from my pantach revu...  0.072  0.597   \n",
              "2       5                                       Very pleased  0.000  0.238   \n",
              "3       4  It works good but it goes slow sometimes but i...  0.000  0.500   \n",
              "4       4  Great phone to replace my lost phone. The only...  0.038  0.897   \n",
              "\n",
              "     pos  compound Sentiment  Review Votes  \n",
              "0  0.189    0.8783  Positive           1.0  \n",
              "1  0.331    0.9231  Positive           0.0  \n",
              "2  0.762    0.4927  Positive           0.0  \n",
              "3  0.500    0.9185  Positive           0.0  \n",
              "4  0.065    0.2942  Positive           0.0  "
            ],
            "text/html": [
              "\n",
              "  <div id=\"df-800cc938-e440-4a40-85cb-09c742f0658e\">\n",
              "    <div class=\"colab-df-container\">\n",
              "      <div>\n",
              "<style scoped>\n",
              "    .dataframe tbody tr th:only-of-type {\n",
              "        vertical-align: middle;\n",
              "    }\n",
              "\n",
              "    .dataframe tbody tr th {\n",
              "        vertical-align: top;\n",
              "    }\n",
              "\n",
              "    .dataframe thead th {\n",
              "        text-align: right;\n",
              "    }\n",
              "</style>\n",
              "<table border=\"1\" class=\"dataframe\">\n",
              "  <thead>\n",
              "    <tr style=\"text-align: right;\">\n",
              "      <th></th>\n",
              "      <th>Product Name</th>\n",
              "      <th>Brand Name</th>\n",
              "      <th>Price</th>\n",
              "      <th>Rating</th>\n",
              "      <th>Reviews</th>\n",
              "      <th>neg</th>\n",
              "      <th>neu</th>\n",
              "      <th>pos</th>\n",
              "      <th>compound</th>\n",
              "      <th>Sentiment</th>\n",
              "      <th>Review Votes</th>\n",
              "    </tr>\n",
              "  </thead>\n",
              "  <tbody>\n",
              "    <tr>\n",
              "      <th>0</th>\n",
              "      <td>\"CLEAR CLEAN ESN\" Sprint EPIC 4G Galaxy SPH-D7...</td>\n",
              "      <td>Samsung</td>\n",
              "      <td>199.99</td>\n",
              "      <td>5</td>\n",
              "      <td>I feel so LUCKY to have found this used (phone...</td>\n",
              "      <td>0.015</td>\n",
              "      <td>0.796</td>\n",
              "      <td>0.189</td>\n",
              "      <td>0.8783</td>\n",
              "      <td>Positive</td>\n",
              "      <td>1.0</td>\n",
              "    </tr>\n",
              "    <tr>\n",
              "      <th>1</th>\n",
              "      <td>\"CLEAR CLEAN ESN\" Sprint EPIC 4G Galaxy SPH-D7...</td>\n",
              "      <td>Samsung</td>\n",
              "      <td>199.99</td>\n",
              "      <td>4</td>\n",
              "      <td>nice phone, nice up grade from my pantach revu...</td>\n",
              "      <td>0.072</td>\n",
              "      <td>0.597</td>\n",
              "      <td>0.331</td>\n",
              "      <td>0.9231</td>\n",
              "      <td>Positive</td>\n",
              "      <td>0.0</td>\n",
              "    </tr>\n",
              "    <tr>\n",
              "      <th>2</th>\n",
              "      <td>\"CLEAR CLEAN ESN\" Sprint EPIC 4G Galaxy SPH-D7...</td>\n",
              "      <td>Samsung</td>\n",
              "      <td>199.99</td>\n",
              "      <td>5</td>\n",
              "      <td>Very pleased</td>\n",
              "      <td>0.000</td>\n",
              "      <td>0.238</td>\n",
              "      <td>0.762</td>\n",
              "      <td>0.4927</td>\n",
              "      <td>Positive</td>\n",
              "      <td>0.0</td>\n",
              "    </tr>\n",
              "    <tr>\n",
              "      <th>3</th>\n",
              "      <td>\"CLEAR CLEAN ESN\" Sprint EPIC 4G Galaxy SPH-D7...</td>\n",
              "      <td>Samsung</td>\n",
              "      <td>199.99</td>\n",
              "      <td>4</td>\n",
              "      <td>It works good but it goes slow sometimes but i...</td>\n",
              "      <td>0.000</td>\n",
              "      <td>0.500</td>\n",
              "      <td>0.500</td>\n",
              "      <td>0.9185</td>\n",
              "      <td>Positive</td>\n",
              "      <td>0.0</td>\n",
              "    </tr>\n",
              "    <tr>\n",
              "      <th>4</th>\n",
              "      <td>\"CLEAR CLEAN ESN\" Sprint EPIC 4G Galaxy SPH-D7...</td>\n",
              "      <td>Samsung</td>\n",
              "      <td>199.99</td>\n",
              "      <td>4</td>\n",
              "      <td>Great phone to replace my lost phone. The only...</td>\n",
              "      <td>0.038</td>\n",
              "      <td>0.897</td>\n",
              "      <td>0.065</td>\n",
              "      <td>0.2942</td>\n",
              "      <td>Positive</td>\n",
              "      <td>0.0</td>\n",
              "    </tr>\n",
              "  </tbody>\n",
              "</table>\n",
              "</div>\n",
              "      <button class=\"colab-df-convert\" onclick=\"convertToInteractive('df-800cc938-e440-4a40-85cb-09c742f0658e')\"\n",
              "              title=\"Convert this dataframe to an interactive table.\"\n",
              "              style=\"display:none;\">\n",
              "        \n",
              "  <svg xmlns=\"http://www.w3.org/2000/svg\" height=\"24px\"viewBox=\"0 0 24 24\"\n",
              "       width=\"24px\">\n",
              "    <path d=\"M0 0h24v24H0V0z\" fill=\"none\"/>\n",
              "    <path d=\"M18.56 5.44l.94 2.06.94-2.06 2.06-.94-2.06-.94-.94-2.06-.94 2.06-2.06.94zm-11 1L8.5 8.5l.94-2.06 2.06-.94-2.06-.94L8.5 2.5l-.94 2.06-2.06.94zm10 10l.94 2.06.94-2.06 2.06-.94-2.06-.94-.94-2.06-.94 2.06-2.06.94z\"/><path d=\"M17.41 7.96l-1.37-1.37c-.4-.4-.92-.59-1.43-.59-.52 0-1.04.2-1.43.59L10.3 9.45l-7.72 7.72c-.78.78-.78 2.05 0 2.83L4 21.41c.39.39.9.59 1.41.59.51 0 1.02-.2 1.41-.59l7.78-7.78 2.81-2.81c.8-.78.8-2.07 0-2.86zM5.41 20L4 18.59l7.72-7.72 1.47 1.35L5.41 20z\"/>\n",
              "  </svg>\n",
              "      </button>\n",
              "      \n",
              "  <style>\n",
              "    .colab-df-container {\n",
              "      display:flex;\n",
              "      flex-wrap:wrap;\n",
              "      gap: 12px;\n",
              "    }\n",
              "\n",
              "    .colab-df-convert {\n",
              "      background-color: #E8F0FE;\n",
              "      border: none;\n",
              "      border-radius: 50%;\n",
              "      cursor: pointer;\n",
              "      display: none;\n",
              "      fill: #1967D2;\n",
              "      height: 32px;\n",
              "      padding: 0 0 0 0;\n",
              "      width: 32px;\n",
              "    }\n",
              "\n",
              "    .colab-df-convert:hover {\n",
              "      background-color: #E2EBFA;\n",
              "      box-shadow: 0px 1px 2px rgba(60, 64, 67, 0.3), 0px 1px 3px 1px rgba(60, 64, 67, 0.15);\n",
              "      fill: #174EA6;\n",
              "    }\n",
              "\n",
              "    [theme=dark] .colab-df-convert {\n",
              "      background-color: #3B4455;\n",
              "      fill: #D2E3FC;\n",
              "    }\n",
              "\n",
              "    [theme=dark] .colab-df-convert:hover {\n",
              "      background-color: #434B5C;\n",
              "      box-shadow: 0px 1px 3px 1px rgba(0, 0, 0, 0.15);\n",
              "      filter: drop-shadow(0px 1px 2px rgba(0, 0, 0, 0.3));\n",
              "      fill: #FFFFFF;\n",
              "    }\n",
              "  </style>\n",
              "\n",
              "      <script>\n",
              "        const buttonEl =\n",
              "          document.querySelector('#df-800cc938-e440-4a40-85cb-09c742f0658e button.colab-df-convert');\n",
              "        buttonEl.style.display =\n",
              "          google.colab.kernel.accessAllowed ? 'block' : 'none';\n",
              "\n",
              "        async function convertToInteractive(key) {\n",
              "          const element = document.querySelector('#df-800cc938-e440-4a40-85cb-09c742f0658e');\n",
              "          const dataTable =\n",
              "            await google.colab.kernel.invokeFunction('convertToInteractive',\n",
              "                                                     [key], {});\n",
              "          if (!dataTable) return;\n",
              "\n",
              "          const docLinkHtml = 'Like what you see? Visit the ' +\n",
              "            '<a target=\"_blank\" href=https://colab.research.google.com/notebooks/data_table.ipynb>data table notebook</a>'\n",
              "            + ' to learn more about interactive tables.';\n",
              "          element.innerHTML = '';\n",
              "          dataTable['output_type'] = 'display_data';\n",
              "          await google.colab.output.renderOutput(dataTable, element);\n",
              "          const docLink = document.createElement('div');\n",
              "          docLink.innerHTML = docLinkHtml;\n",
              "          element.appendChild(docLink);\n",
              "        }\n",
              "      </script>\n",
              "    </div>\n",
              "  </div>\n",
              "  "
            ]
          },
          "metadata": {},
          "execution_count": 12
        }
      ]
    },
    {
      "cell_type": "markdown",
      "source": [
        "Exploratory Data Anlysis"
      ],
      "metadata": {
        "id": "bsaQiHIumQL_"
      }
    },
    {
      "cell_type": "code",
      "source": [
        "#Plot the distribution of sentiments in a bar graph\n",
        "colors = ['#FF6961', '#FDFD96', '#77DD77']\n",
        "ax = df['Sentiment'].value_counts().sort_index() \\\n",
        "     .plot(kind = 'bar', title = 'Distribution of Sentiments', figsize=(10,5), color = colors)\n",
        "ax.set_xlabel('Sentiment')\n",
        "plt.show()"
      ],
      "metadata": {
        "id": "vawRz9dWmdT7",
        "colab": {
          "base_uri": "https://localhost:8080/",
          "height": 396
        },
        "outputId": "5d925e2b-5704-41a0-9eee-e1f346b4971a"
      },
      "execution_count": 13,
      "outputs": [
        {
          "output_type": "display_data",
          "data": {
            "text/plain": [
              "<Figure size 720x360 with 1 Axes>"
            ],
            "image/png": "[encoded data removed]"
          },
          "metadata": {}
        }
      ]
    },
    {
      "cell_type": "code",
      "source": [
        "#Plot the distribution of sentiments in a pie chart\n",
        "labels = ['Negative','Neutral','Positive']\n",
        "plt.pie(df['Sentiment'].value_counts().sort_index(), labels = labels, colors = colors, autopct='%.0f%%')\n",
        "plt.title('Distribution of Sentiments')\n",
        "plt.show()"
      ],
      "metadata": {
        "id": "Nfa44MB6l_XZ",
        "colab": {
          "base_uri": "https://localhost:8080/",
          "height": 265
        },
        "outputId": "7dc02f3d-9977-45bc-8bab-901fe5bd3199"
      },
      "execution_count": 14,
      "outputs": [
        {
          "output_type": "display_data",
          "data": {
            "text/plain": [
              "<Figure size 432x288 with 1 Axes>"
            ],
            "image/png": "[encoded data removed]"
          },
          "metadata": {}
        }
      ]
    },
    {
      "cell_type": "code",
      "source": [
        "#Graph of compound score in relation to Amazon star rating\n",
        "ax = sns.barplot(data=analysis, x = 'Rating', y = 'compound')\n",
        "ax.set_title('Compound Score in relation to Amazon Star Rating')\n",
        "plt.show()"
      ],
      "metadata": {
        "id": "g1EySSUGq78A",
        "colab": {
          "base_uri": "https://localhost:8080/",
          "height": 302
        },
        "outputId": "7599b8f5-0279-4c4f-d72f-bca8a521875f"
      },
      "execution_count": 15,
      "outputs": [
        {
          "output_type": "display_data",
          "data": {
            "text/plain": [
              "<Figure size 432x288 with 1 Axes>"
            ],
            "image/png": "[encoded data removed]"
          },
          "metadata": {}
        }
      ]
    },
    {
      "cell_type": "code",
      "source": [
        "#Graph of positive, negative, and neutral score in raltion to Amazon star rating\n",
        "g1 = sns.catplot(data=analysis, x='Rating', y='pos', palette=\"YlGnBu_d\", \n",
        "                 kind=\"point\", errorbar=\"se\", capsize=.2).set(title='Positive Ratings')\n",
        "g1.ax.set_ylim(0, 0.4)\n",
        "\n",
        "g2 = sns.catplot(data=analysis, x='Rating', y='neg', palette=\"YlGnBu_d\", \n",
        "                 kind=\"point\", errorbar=\"se\", capsize=.2).set(title='Negative Ratings')\n",
        "g2.ax.set_ylim(0, 0.4)\n",
        "\n",
        "g3 = sns.catplot(data=analysis, x='Rating', y='neu', palette=\"YlGnBu_d\", \n",
        "                 kind=\"point\", errorbar=\"se\", capsize=.2).set(title='Neutral Ratings')\n",
        "g3.ax.set_ylim(0.6, 1)"
      ],
      "metadata": {
        "id": "zycoeiQSlttO",
        "colab": {
          "base_uri": "https://localhost:8080/",
          "height": 1000
        },
        "outputId": "dd72789d-96fd-4853-a323-597a4dfadb42"
      },
      "execution_count": 16,
      "outputs": [
        {
          "output_type": "execute_result",
          "data": {
            "text/plain": [
              "(0.6, 1.0)"
            ]
          },
          "metadata": {},
          "execution_count": 16
        },
        {
          "output_type": "display_data",
          "data": {
            "text/plain": [
              "<Figure size 360x360 with 1 Axes>"
            ],
            "image/png": "[encoded data removed]"
          },
          "metadata": {}
        },
        {
          "output_type": "display_data",
          "data": {
            "text/plain": [
              "<Figure size 360x360 with 1 Axes>"
            ],
            "image/png": "[encoded data removed]"
          },
          "metadata": {}
        },
        {
          "output_type": "display_data",
          "data": {
            "text/plain": [
              "<Figure size 360x360 with 1 Axes>"
            ],
            "image/png": "[encoded data removed]"
          },
          "metadata": {}
        }
      ]
    }
  ]
}